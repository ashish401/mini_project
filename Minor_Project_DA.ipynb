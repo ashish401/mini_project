{
  "nbformat": 4,
  "nbformat_minor": 0,
  "metadata": {
    "colab": {
      "name": "Minor.Project.DA.ipynb",
      "provenance": [],
      "collapsed_sections": [],
      "authorship_tag": "ABX9TyMuOMGgO/ddyVXYWjWCU1ZP",
      "include_colab_link": true
    },
    "kernelspec": {
      "name": "python3",
      "display_name": "Python 3"
    },
    "language_info": {
      "name": "python"
    }
  },
  "cells": [
    {
      "cell_type": "markdown",
      "metadata": {
        "id": "view-in-github",
        "colab_type": "text"
      },
      "source": [
        "<a href=\"https://colab.research.google.com/github/ashish401/mini_project/blob/main/Minor_Project_DA.ipynb\" target=\"_parent\"><img src=\"https://colab.research.google.com/assets/colab-badge.svg\" alt=\"Open In Colab\"/></a>"
      ]
    },
    {
      "cell_type": "code",
      "metadata": {
        "id": "irwZ3SZw29wx",
        "colab": {
          "base_uri": "https://localhost:8080/"
        },
        "outputId": "8edb32fd-ab18-4ce9-dba1-d4dfe9df3f79"
      },
      "source": [
        "!pip install bing-image-downloader"
      ],
      "execution_count": null,
      "outputs": [
        {
          "output_type": "stream",
          "text": [
            "Requirement already satisfied: bing-image-downloader in /usr/local/lib/python3.7/dist-packages (1.1.0)\n"
          ],
          "name": "stdout"
        }
      ]
    },
    {
      "cell_type": "code",
      "metadata": {
        "id": "IlFwwHvH6Ffz",
        "colab": {
          "base_uri": "https://localhost:8080/"
        },
        "outputId": "1825adcd-9009-4409-de7b-759d71d05ab3"
      },
      "source": [
        "!mkdir imagesforest"
      ],
      "execution_count": null,
      "outputs": [
        {
          "output_type": "stream",
          "text": [
            "mkdir: cannot create directory ‘imagesforest’: File exists\n"
          ],
          "name": "stdout"
        }
      ]
    },
    {
      "cell_type": "code",
      "metadata": {
        "id": "sfkI-rzk6PMi"
      },
      "source": [
        "from bing_image_downloader import downloader"
      ],
      "execution_count": null,
      "outputs": []
    },
    {
      "cell_type": "code",
      "metadata": {
        "id": "-X-1o26jTBJ3",
        "colab": {
          "base_uri": "https://localhost:8080/"
        },
        "outputId": "ee8c39a1-d442-4635-e3ca-f4210163c691"
      },
      "source": [
        "downloader.download(\"green forest\",limit=35,output_dir='imagesforest',adult_filter_off=True)"
      ],
      "execution_count": null,
      "outputs": [
        {
          "output_type": "stream",
          "text": [
            "[%] Downloading Images to /content/imagesforest/green forest\n",
            "\n",
            "\n",
            "[!!]Indexing page: 1\n",
            "\n",
            "[%] Indexed 35 Images on Page 1.\n",
            "\n",
            "===============================================\n",
            "\n",
            "[%] Downloading Image #1 from http://3.bp.blogspot.com/_2UbsSBz9ckE/SbqJjWFBMQI/AAAAAAAAAOQ/u090xPmRqI0/w1200-h630-p-k-no-nu/green-contrast-forest-wallpapers_11431_1600x1200.jpg\n",
            "[%] File Downloaded !\n",
            "\n",
            "[%] Downloading Image #2 from https://i.pinimg.com/originals/92/a1/e3/92a1e3efb17e94eb378c9678b5e2833a.jpg\n",
            "[%] File Downloaded !\n",
            "\n",
            "[%] Downloading Image #3 from https://murals-weblinc.netdna-ssl.com/product_images/spring-forest-morning-28679024/5ec82ee4bd89dd0018f76e5f/zoom.jpg?c=1590177508\n",
            "[%] File Downloaded !\n",
            "\n",
            "[%] Downloading Image #4 from https://i.pinimg.com/originals/c7/9e/85/c79e85813d5a6a9cd6bc2356ddab7b8f.jpg\n",
            "[%] File Downloaded !\n",
            "\n",
            "[%] Downloading Image #5 from https://i.pinimg.com/originals/a1/d5/b8/a1d5b81a22684531652a027869133eae.jpg\n",
            "[%] File Downloaded !\n",
            "\n",
            "[%] Downloading Image #6 from https://i.pinimg.com/originals/99/d7/90/99d790708246cfaecf80a047b4931980.jpg\n",
            "[%] File Downloaded !\n",
            "\n",
            "[%] Downloading Image #7 from https://gumlet.assettype.com/eastmojo%2F2020-01%2F79a51056-aa84-4f4d-97e3-e0bfdde92d30%2Fnature_3294681_1920.jpg?rect=0%2C0%2C1920%2C1008&amp;w=1200&amp;auto=format%2Ccompress&amp;ogImage=true\n",
            "[Error]Invalid image, not saving https://gumlet.assettype.com/eastmojo%2F2020-01%2F79a51056-aa84-4f4d-97e3-e0bfdde92d30%2Fnature_3294681_1920.jpg?rect=0%2C0%2C1920%2C1008&amp;w=1200&amp;auto=format%2Ccompress&amp;ogImage=true\n",
            "\n",
            "[!] Issue getting: https://gumlet.assettype.com/eastmojo%2F2020-01%2F79a51056-aa84-4f4d-97e3-e0bfdde92d30%2Fnature_3294681_1920.jpg?rect=0%2C0%2C1920%2C1008&amp;w=1200&amp;auto=format%2Ccompress&amp;ogImage=true\n",
            "[!] Error:: Invalid image, not saving https://gumlet.assettype.com/eastmojo%2F2020-01%2F79a51056-aa84-4f4d-97e3-e0bfdde92d30%2Fnature_3294681_1920.jpg?rect=0%2C0%2C1920%2C1008&amp;w=1200&amp;auto=format%2Ccompress&amp;ogImage=true\n",
            "\n",
            "[%] Downloading Image #7 from https://live.staticflickr.com/2726/4152455094_4c80020f11_b.jpg\n",
            "[%] File Downloaded !\n",
            "\n",
            "[%] Downloading Image #8 from https://i.pinimg.com/originals/6a/92/5a/6a925a817a17a9b8f466e8bc9459fd35.jpg\n",
            "[%] File Downloaded !\n",
            "\n",
            "[%] Downloading Image #9 from https://i.pinimg.com/originals/53/5b/24/535b2471a6d01f99a7af84f75bb5329b.jpg\n",
            "[%] File Downloaded !\n",
            "\n",
            "[%] Downloading Image #10 from https://i.pinimg.com/originals/a8/0e/84/a80e84890726634f5e6c001c28dd4999.jpg\n",
            "[%] File Downloaded !\n",
            "\n",
            "[%] Downloading Image #11 from https://i.pinimg.com/originals/b6/c7/e2/b6c7e2f36d6feb8bd320fae637f70a6f.jpg\n",
            "[%] File Downloaded !\n",
            "\n",
            "[%] Downloading Image #12 from https://www.thymindoman.com/wp-content/uploads/2017/04/green-forest-tree-and-pure-blue-sky-wide.jpg\n",
            "[%] File Downloaded !\n",
            "\n",
            "[%] Downloading Image #13 from https://i.pinimg.com/originals/38/5d/38/385d387af3aece11b4f0553ca6fc8282.jpg\n",
            "[%] File Downloaded !\n",
            "\n",
            "[%] Downloading Image #14 from https://thumbs.dreamstime.com/z/country-road-true-green-fields-sunrice-over-denmark-148840239.jpg\n",
            "[%] File Downloaded !\n",
            "\n",
            "[%] Downloading Image #15 from https://media-cdn.tripadvisor.com/media/photo-s/01/8e/7d/52/pictures-can-t-even-capture.jpg\n",
            "[%] File Downloaded !\n",
            "\n",
            "[%] Downloading Image #16 from https://standardebooks.org/images/covers/thornton-w-burgess_green-forest-stories-98432103-hero@2x.jpg\n",
            "[%] File Downloaded !\n",
            "\n",
            "[%] Downloading Image #17 from https://i.ytimg.com/vi/MDGwzUV1m5o/maxresdefault.jpg\n",
            "[%] File Downloaded !\n",
            "\n",
            "[%] Downloading Image #18 from https://murals-weblinc.netdna-ssl.com/product_images/forest-river-48089489/5ecab778b17c540072d77037/detail.jpg?c=1590343544\n",
            "[%] File Downloaded !\n",
            "\n",
            "[%] Downloading Image #19 from https://i.pinimg.com/originals/bf/47/d6/bf47d618ec0ec545a10ea9924269b80b.jpg\n",
            "[%] File Downloaded !\n",
            "\n",
            "[%] Downloading Image #20 from https://media-cdn.tripadvisor.com/media/photo-s/01/8e/7d/55/small-waterfall-in-the.jpg\n",
            "[%] File Downloaded !\n",
            "\n",
            "[%] Downloading Image #21 from https://thevillagereporter.com/wp-content/uploads/2019/10/FALL-COLORS.jpg\n",
            "[%] File Downloaded !\n",
            "\n",
            "[%] Downloading Image #22 from https://i.pinimg.com/originals/d6/4c/34/d64c3463e0780d175c9cd086d680f3bf.jpg\n",
            "[%] File Downloaded !\n",
            "\n",
            "[%] Downloading Image #23 from https://thehealinglotus.ca/wp-content/uploads/2016/09/1473341484.jpg\n",
            "[%] File Downloaded !\n",
            "\n",
            "[%] Downloading Image #24 from https://s24990.pcdn.co/wp-content/uploads/2020/01/smart-forest-city-400x208.jpg\n",
            "[%] File Downloaded !\n",
            "\n",
            "[%] Downloading Image #25 from https://wallup.net/wp-content/uploads/2015/12/258792-landscape-nature-forest-path-leaves-trees-mist-sunlight-sunrise-fall-gold-fairy_tale.jpg\n",
            "[%] File Downloaded !\n",
            "\n",
            "[%] Downloading Image #26 from https://i.pinimg.com/originals/48/24/fd/4824fd9fe79005aa1102c9885eae965d.jpg\n",
            "[%] File Downloaded !\n",
            "\n",
            "[%] Downloading Image #27 from https://cimg2.ibsrv.net/cimg/www.rennlist.com/1600x900_85-1/482/3-578482.jpg\n",
            "[%] File Downloaded !\n",
            "\n",
            "[%] Downloading Image #28 from https://cdn.shopify.com/s/files/1/2550/8730/products/herb_parsley_forestgreen_pixabay_1200x1200.jpg?v=1595029846\n",
            "[%] File Downloaded !\n",
            "\n",
            "[%] Downloading Image #29 from https://i.pinimg.com/originals/86/76/45/86764507b5162538311da23938e3f27f.jpg\n",
            "[%] File Downloaded !\n",
            "\n",
            "[%] Downloading Image #30 from https://odis.homeaway.com/odis/listing/998cb5f0-f4c3-45c0-85a1-0cd50af7cf70.c10.jpg\n",
            "[%] File Downloaded !\n",
            "\n",
            "[%] Downloading Image #31 from https://i5.walmartimages.com/asr/882ff96b-087f-4831-a801-cfb6675edf87_1.62826d1fca8b4d3f17ed0e63c5fc006d.png?odnWidth=1000&amp;odnHeight=1000&amp;odnBg=ffffff\n",
            "[%] File Downloaded !\n",
            "\n",
            "[%] Downloading Image #32 from https://i.pinimg.com/originals/20/1e/e8/201ee8ded92c1b6971fd9a6e8d955e51.jpg\n",
            "[%] File Downloaded !\n",
            "\n",
            "[%] Downloading Image #33 from https://i.pinimg.com/originals/5c/84/e9/5c84e9f90d05ba195c38832ae983dcf4.jpg\n",
            "[%] File Downloaded !\n",
            "\n",
            "[%] Downloading Image #34 from https://s24990.pcdn.co/wp-content/uploads/2020/01/smart-forest-city3.jpg\n",
            "[%] File Downloaded !\n",
            "\n",
            "\n",
            "\n",
            "[!!]Indexing page: 2\n",
            "\n",
            "[%] Indexed 35 Images on Page 2.\n",
            "\n",
            "===============================================\n",
            "\n",
            "[%] Downloading Image #35 from http://3.bp.blogspot.com/_2UbsSBz9ckE/SbqJjWFBMQI/AAAAAAAAAOQ/u090xPmRqI0/w1200-h630-p-k-no-nu/green-contrast-forest-wallpapers_11431_1600x1200.jpg\n",
            "[%] File Downloaded !\n",
            "\n",
            "\n",
            "\n",
            "[%] Done. Downloaded 35 images.\n",
            "===============================================\n",
            "\n",
            "Please show your support here\n",
            "https://www.buymeacoffee.com/gurugaurav\n",
            "\n",
            "===============================================\n",
            "\n"
          ],
          "name": "stdout"
        }
      ]
    },
    {
      "cell_type": "code",
      "metadata": {
        "id": "4PbiYyxM69hG",
        "colab": {
          "base_uri": "https://localhost:8080/"
        },
        "outputId": "96e521fc-f9e2-41c1-d8be-7ac82fabe280"
      },
      "source": [
        "downloader.download(\"desert\",limit=35,output_dir='imagesforest',adult_filter_off=True)"
      ],
      "execution_count": null,
      "outputs": [
        {
          "output_type": "stream",
          "text": [
            "[%] Downloading Images to /content/imagesforest/desert\n",
            "\n",
            "\n",
            "[!!]Indexing page: 1\n",
            "\n",
            "[%] Indexed 35 Images on Page 1.\n",
            "\n",
            "===============================================\n",
            "\n",
            "[%] Downloading Image #1 from https://jackfulton.net/wp-content/uploads/2017/02/The-True-Desert.jpg\n",
            "[%] File Downloaded !\n",
            "\n",
            "[%] Downloading Image #2 from https://www.familiesworldwide.co.uk/images/galleries/africa_morocco_sahara_desert_gallery_red_sand_dune.jpg\n",
            "[%] File Downloaded !\n",
            "\n",
            "[%] Downloading Image #3 from http://irantours24.com/wp-content/uploads/2017/10/desert2e.jpg\n",
            "[!] Issue getting: http://irantours24.com/wp-content/uploads/2017/10/desert2e.jpg\n",
            "[!] Error:: <urlopen error timed out>\n",
            "[%] Downloading Image #3 from https://cdn.wallpapersafari.com/48/35/8g1qTb.jpg\n",
            "[%] File Downloaded !\n",
            "\n",
            "[%] Downloading Image #4 from http://www.israel-travel-secrets.com/wp-content/uploads/2016/11/Negev-Desert-1280x640.jpg\n",
            "[%] File Downloaded !\n",
            "\n",
            "[%] Downloading Image #5 from http://living-wild.net/wp-content/uploads/2016/02/true-desert-1.jpg\n",
            "[%] File Downloaded !\n",
            "\n",
            "[%] Downloading Image #6 from https://external-preview.redd.it/DnN7OIje5a1R8OF1faTYzVyRcQQRWn_arxe3aMsM-ME.jpg?width=671&amp;height=351.308900524&amp;auto=webp&amp;s=aadee232a3a052ad71918681270b7d4dfbf36f2f\n",
            "[!] Issue getting: https://external-preview.redd.it/DnN7OIje5a1R8OF1faTYzVyRcQQRWn_arxe3aMsM-ME.jpg?width=671&amp;height=351.308900524&amp;auto=webp&amp;s=aadee232a3a052ad71918681270b7d4dfbf36f2f\n",
            "[!] Error:: HTTP Error 403: Forbidden\n",
            "[%] Downloading Image #6 from https://www.oh-i-see.com/blog/wp-content/uploads/2015/06/DSC00584-1024x768.jpg\n",
            "[%] File Downloaded !\n",
            "\n",
            "[%] Downloading Image #7 from https://www.selenatravel.com/upload/media/tour_photos/0001/01/cc2ae716c002a9ae2fca02c68bcebb8e49368bf4.jpeg\n",
            "[%] File Downloaded !\n",
            "\n",
            "[%] Downloading Image #8 from http://www.true-dubai.com/homepage-international-media-production-zone/desert-media-production-zone.jpg\n",
            "[%] File Downloaded !\n",
            "\n",
            "[%] Downloading Image #9 from https://i1.wp.com/truehorrorstoriesoftexas.com/wp-content/uploads/2016/12/whirl-5-desert.jpg?ssl=1\n",
            "[%] File Downloaded !\n",
            "\n",
            "[%] Downloading Image #10 from https://questioningthedata.files.wordpress.com/2015/08/xfiles1.jpg?w=640\n",
            "[Error]Invalid image, not saving https://questioningthedata.files.wordpress.com/2015/08/xfiles1.jpg?w=640\n",
            "\n",
            "[!] Issue getting: https://questioningthedata.files.wordpress.com/2015/08/xfiles1.jpg?w=640\n",
            "[!] Error:: Invalid image, not saving https://questioningthedata.files.wordpress.com/2015/08/xfiles1.jpg?w=640\n",
            "\n",
            "[%] Downloading Image #10 from https://i0.wp.com/www.truelifegame.com/wp-content/uploads/2014/07/5951683773_d9ae078f20_b.jpg?fit=1024%2C697&amp;ssl=1\n",
            "[!] Issue getting: https://i0.wp.com/www.truelifegame.com/wp-content/uploads/2014/07/5951683773_d9ae078f20_b.jpg?fit=1024%2C697&amp;ssl=1\n",
            "[!] Error:: HTTP Error 400: Bad Request\n",
            "[%] Downloading Image #10 from https://coachellavalley.com/wp-content/uploads/2019/03/FB_IMG_1552116139723.jpg\n",
            "[%] File Downloaded !\n",
            "\n",
            "[%] Downloading Image #11 from http://www.truelifewithgod.com/wp-content/uploads/2013/04/DSC_074411.jpg\n",
            "[%] File Downloaded !\n",
            "\n",
            "[%] Downloading Image #12 from https://media-manager.starsinsider.com/gallery/1920/na_5b067e10bc8d4.jpg\n",
            "[%] File Downloaded !\n",
            "\n",
            "[%] Downloading Image #13 from https://live.staticflickr.com/5596/14920768415_2afb0d37cd_b.jpg\n",
            "[%] File Downloaded !\n",
            "\n",
            "[%] Downloading Image #14 from http://www.truelifewithgod.com/wp-content/uploads/2013/04/DSC_077511.jpg\n",
            "[%] File Downloaded !\n",
            "\n",
            "[%] Downloading Image #15 from https://media-manager.starsinsider.com/gallery/1920/na_5b0584bf98a7d.jpg\n",
            "[%] File Downloaded !\n",
            "\n",
            "[%] Downloading Image #16 from https://i.pinimg.com/originals/d9/08/f1/d908f19b47bdbe2ce35650a3f4001519.jpg\n",
            "[%] File Downloaded !\n",
            "\n",
            "[%] Downloading Image #17 from https://images.financialexpress.com/2018/01/isjrlqimha-1515506548.jpg\n",
            "[%] File Downloaded !\n",
            "\n",
            "[%] Downloading Image #18 from http://www.truelifewithgod.com/wp-content/uploads/2013/04/DSC_073611.jpg\n",
            "[%] File Downloaded !\n",
            "\n",
            "[%] Downloading Image #19 from https://i1.wp.com/astreamcometrue.com/wp-content/uploads/2019/12/E7C7855C-92CC-48B1-ACF9-EEE08160E354.jpeg?fit=2048%2C1536&amp;ssl=1\n",
            "[%] File Downloaded !\n",
            "\n",
            "[%] Downloading Image #20 from https://66.media.tumblr.com/e150614586d3386c5edc27c34baedc04/tumblr_oortzmHpzh1r81c8do1_1280.jpg\n",
            "[Error]Invalid image, not saving https://66.media.tumblr.com/e150614586d3386c5edc27c34baedc04/tumblr_oortzmHpzh1r81c8do1_1280.jpg\n",
            "\n",
            "[!] Issue getting: https://66.media.tumblr.com/e150614586d3386c5edc27c34baedc04/tumblr_oortzmHpzh1r81c8do1_1280.jpg\n",
            "[!] Error:: Invalid image, not saving https://66.media.tumblr.com/e150614586d3386c5edc27c34baedc04/tumblr_oortzmHpzh1r81c8do1_1280.jpg\n",
            "\n",
            "[%] Downloading Image #20 from https://www.worldatlas.com/r/w1200-h630-c1200x630/upload/99/63/9c/shutterstock-1075432010.jpg\n",
            "[Error]Invalid image, not saving https://www.worldatlas.com/r/w1200-h630-c1200x630/upload/99/63/9c/shutterstock-1075432010.jpg\n",
            "\n",
            "[!] Issue getting: https://www.worldatlas.com/r/w1200-h630-c1200x630/upload/99/63/9c/shutterstock-1075432010.jpg\n",
            "[!] Error:: Invalid image, not saving https://www.worldatlas.com/r/w1200-h630-c1200x630/upload/99/63/9c/shutterstock-1075432010.jpg\n",
            "\n",
            "[%] Downloading Image #20 from https://www.gannett-cdn.com/-mm-/1c8945690620e8556e5da51f3cc5e07da81c2b74/c=0-41-1587-938/local/-/media/2017/02/16/PalmSprings/PalmSprings/636228481122427091-12-834.jpg?width=1587&amp;height=897&amp;fit=crop&amp;format=pjpg&amp;auto=webp\n",
            "[%] File Downloaded !\n",
            "\n",
            "[%] Downloading Image #21 from https://heregoeskenya.com/wp-content/uploads/2019/09/chalbi.jpg\n",
            "[%] File Downloaded !\n",
            "\n",
            "[%] Downloading Image #22 from http://blog.skymed.com/wp-content/uploads/2018/05/bigstock-Scottsdale-Arizona-desert-land-238885315.jpg\n",
            "[%] File Downloaded !\n",
            "\n",
            "[%] Downloading Image #23 from https://trueegypttours.com/wp-content/uploads/2019/09/white-desert2-e1568219570764.jpg\n",
            "[%] File Downloaded !\n",
            "\n",
            "[%] Downloading Image #24 from http://www.selenatravel.com/upload/media/tour_photos/0001/01/ae72d1e33f8af5daf964a251d6624b746d66ddf3.jpeg\n",
            "[%] File Downloaded !\n",
            "\n",
            "[%] Downloading Image #25 from https://66.media.tumblr.com/7d5bfbaffe211dea2707ed7317c3e5e9/tumblr_ppcsesajMk1xl3ivao1_1280.jpg\n",
            "[Error]Invalid image, not saving https://66.media.tumblr.com/7d5bfbaffe211dea2707ed7317c3e5e9/tumblr_ppcsesajMk1xl3ivao1_1280.jpg\n",
            "\n",
            "[!] Issue getting: https://66.media.tumblr.com/7d5bfbaffe211dea2707ed7317c3e5e9/tumblr_ppcsesajMk1xl3ivao1_1280.jpg\n",
            "[!] Error:: Invalid image, not saving https://66.media.tumblr.com/7d5bfbaffe211dea2707ed7317c3e5e9/tumblr_ppcsesajMk1xl3ivao1_1280.jpg\n",
            "\n",
            "[%] Downloading Image #25 from http://justfunfacts.com/wp-content/uploads/2020/09/atacama-desert-2.jpg\n",
            "[%] File Downloaded !\n",
            "\n",
            "[%] Downloading Image #26 from https://i.pinimg.com/originals/dd/c0/a2/ddc0a2ce29b2844d4e3fa68e86e2570e.jpg\n",
            "[%] File Downloaded !\n",
            "\n",
            "[%] Downloading Image #27 from https://4.bp.blogspot.com/_0CLJqMx9irw/TUAmnjh3kaI/AAAAAAAAC44/NNis_MOoYMM/s1600/japan-desert05-722357.jpg\n",
            "[%] File Downloaded !\n",
            "\n",
            "[%] Downloading Image #28 from https://media.gettyimages.com/photos/sahara-desert-true-colour-satellite-image-the-sahara-is-the-worlds-picture-id129380809\n",
            "[%] File Downloaded !\n",
            "\n",
            "\n",
            "\n",
            "[!!]Indexing page: 2\n",
            "\n",
            "[%] Indexed 35 Images on Page 2.\n",
            "\n",
            "===============================================\n",
            "\n",
            "[%] Downloading Image #29 from https://jackfulton.net/wp-content/uploads/2017/02/The-True-Desert.jpg\n",
            "[%] File Downloaded !\n",
            "\n",
            "[%] Downloading Image #30 from https://www.familiesworldwide.co.uk/images/galleries/africa_morocco_sahara_desert_gallery_red_sand_dune.jpg\n",
            "[%] File Downloaded !\n",
            "\n",
            "[%] Downloading Image #31 from http://irantours24.com/wp-content/uploads/2017/10/desert2e.jpg\n",
            "[!] Issue getting: http://irantours24.com/wp-content/uploads/2017/10/desert2e.jpg\n",
            "[!] Error:: <urlopen error timed out>\n",
            "[%] Downloading Image #31 from https://cdn.wallpapersafari.com/48/35/8g1qTb.jpg\n",
            "[%] File Downloaded !\n",
            "\n",
            "[%] Downloading Image #32 from http://www.israel-travel-secrets.com/wp-content/uploads/2016/11/Negev-Desert-1280x640.jpg\n",
            "[%] File Downloaded !\n",
            "\n",
            "[%] Downloading Image #33 from http://living-wild.net/wp-content/uploads/2016/02/true-desert-1.jpg\n",
            "[%] File Downloaded !\n",
            "\n",
            "[%] Downloading Image #34 from https://external-preview.redd.it/DnN7OIje5a1R8OF1faTYzVyRcQQRWn_arxe3aMsM-ME.jpg?width=671&amp;height=351.308900524&amp;auto=webp&amp;s=aadee232a3a052ad71918681270b7d4dfbf36f2f\n",
            "[!] Issue getting: https://external-preview.redd.it/DnN7OIje5a1R8OF1faTYzVyRcQQRWn_arxe3aMsM-ME.jpg?width=671&amp;height=351.308900524&amp;auto=webp&amp;s=aadee232a3a052ad71918681270b7d4dfbf36f2f\n",
            "[!] Error:: HTTP Error 403: Forbidden\n",
            "[%] Downloading Image #34 from https://www.oh-i-see.com/blog/wp-content/uploads/2015/06/DSC00584-1024x768.jpg\n",
            "[%] File Downloaded !\n",
            "\n",
            "[%] Downloading Image #35 from https://www.selenatravel.com/upload/media/tour_photos/0001/01/cc2ae716c002a9ae2fca02c68bcebb8e49368bf4.jpeg\n",
            "[%] File Downloaded !\n",
            "\n",
            "\n",
            "\n",
            "[%] Done. Downloaded 35 images.\n",
            "===============================================\n",
            "\n",
            "Please show your support here\n",
            "https://www.buymeacoffee.com/gurugaurav\n",
            "\n",
            "===============================================\n",
            "\n"
          ],
          "name": "stdout"
        }
      ]
    },
    {
      "cell_type": "code",
      "metadata": {
        "id": "QXgLQ-1n7vxR",
        "colab": {
          "base_uri": "https://localhost:8080/"
        },
        "outputId": "aa88ee97-bdc9-450b-e57f-828c4bd8a6ab"
      },
      "source": [
        "downloader.download(\"green grass\",limit=35,output_dir='imagesforest',adult_filter_off=True)"
      ],
      "execution_count": null,
      "outputs": [
        {
          "output_type": "stream",
          "text": [
            "[%] Downloading Images to /content/imagesforest/green grass\n",
            "\n",
            "\n",
            "[!!]Indexing page: 1\n",
            "\n",
            "[%] Indexed 35 Images on Page 1.\n",
            "\n",
            "===============================================\n",
            "\n",
            "[%] Downloading Image #1 from http://www.andycain.org/uploads/8/3/6/7/83679422/green-grass_orig.jpg\n",
            "[%] File Downloaded !\n",
            "\n",
            "[%] Downloading Image #2 from https://www.wintergreengrass.com/wp-content/uploads/2020/07/TruePutt2.jpg\n",
            "[%] File Downloaded !\n",
            "\n",
            "[%] Downloading Image #3 from https://www.wintergreengrass.com/wp-content/uploads/2020/07/TruePutt3.jpg\n",
            "[%] File Downloaded !\n",
            "\n",
            "[%] Downloading Image #4 from https://syntheticgrasswarehouse.com/wp-content/uploads/2018/02/put29-1030x687.jpg\n",
            "[%] File Downloaded !\n",
            "\n",
            "[%] Downloading Image #5 from https://turfworksok.com/wp-content/uploads/2019/01/Achieve-a-Super-Green-Turf.png\n",
            "[%] File Downloaded !\n",
            "\n",
            "[%] Downloading Image #6 from https://i.pinimg.com/originals/64/88/6d/64886d2f44152c69d8ae8eae9b709762.jpg\n",
            "[%] File Downloaded !\n",
            "\n",
            "[%] Downloading Image #7 from https://truegreennursery.com.au/website-images/Eureka-Kikuyu.jpg\n",
            "[!] Issue getting: https://truegreennursery.com.au/website-images/Eureka-Kikuyu.jpg\n",
            "[!] Error:: HTTP Error 404: Not Found\n",
            "[%] Downloading Image #7 from https://www.freepngimg.com/thumb/grass/19-grass-png-image-green-grass-png-picture.png\n",
            "[%] File Downloaded !\n",
            "\n",
            "[%] Downloading Image #8 from https://www.growguides.net/wp-content/uploads/2018/05/how-to-grow-grass.jpg\n",
            "[%] File Downloaded !\n",
            "\n",
            "[%] Downloading Image #9 from https://miro.medium.com/max/10368/0*hbJh1Ki7Ekv0QVBu\n",
            "[Error]Invalid image, not saving https://miro.medium.com/max/10368/0*hbJh1Ki7Ekv0QVBu\n",
            "\n",
            "[!] Issue getting: https://miro.medium.com/max/10368/0*hbJh1Ki7Ekv0QVBu\n",
            "[!] Error:: Invalid image, not saving https://miro.medium.com/max/10368/0*hbJh1Ki7Ekv0QVBu\n",
            "\n",
            "[%] Downloading Image #9 from https://murals-weblinc.netdna-ssl.com/product_images/green-grass-1-mural/5ecab774b17c540072d76fee/zoom.jpg?c=1590343540\n",
            "[%] File Downloaded !\n",
            "\n",
            "[%] Downloading Image #10 from https://i.ebayimg.com/images/g/8~8AAOSw~otWchvX/s-l640.jpg\n",
            "[%] File Downloaded !\n",
            "\n",
            "[%] Downloading Image #11 from https://i.pinimg.com/originals/20/56/ab/2056ab4a0d8a87a60318a27112608931.jpg\n",
            "[%] File Downloaded !\n",
            "\n",
            "[%] Downloading Image #12 from https://i.pinimg.com/originals/1f/cb/05/1fcb05f94c5347011f3e938d18b90459.jpg\n",
            "[%] File Downloaded !\n",
            "\n",
            "[%] Downloading Image #13 from https://truegreennursery.com.au/website-images/2228-768x1134.jpg\n",
            "[!] Issue getting: https://truegreennursery.com.au/website-images/2228-768x1134.jpg\n",
            "[!] Error:: HTTP Error 404: Not Found\n",
            "[%] Downloading Image #13 from https://www.wintergreengrass.com/wp-content/uploads/2020/07/TexasRye1.jpg\n",
            "[%] File Downloaded !\n",
            "\n",
            "[%] Downloading Image #14 from https://ae01.alicdn.com/kf/HTB1twMBSpXXXXb.XXXXq6xXFXXXp/New-2018-Green-Source-Turfgrass-grass-bonsai-Evergreen-Lawn-garden-1000-Pcs-pack-Professional-packaging-True.jpg\n",
            "[%] File Downloaded !\n",
            "\n",
            "[%] Downloading Image #15 from https://www.focusonthefamily.com/wp-content/uploads/2005/01/cropped-image-aaron-burden-sI8V_ax011I-unsplash-2-1024x576.jpg\n",
            "[%] File Downloaded !\n",
            "\n",
            "[%] Downloading Image #16 from https://img1.wsimg.com/isteam/ip/71dc3557-141b-4c35-afb1-e0de3c5f58b8/maxresdefault.jpg/:/cr=t:12.18%25,l:0%25,w:100%25,h:64.94%25/rs=h:650,cg:true\n",
            "[Error]Invalid image, not saving https://img1.wsimg.com/isteam/ip/71dc3557-141b-4c35-afb1-e0de3c5f58b8/maxresdefault.jpg/:/cr=t:12.18%25,l:0%25,w:100%25,h:64.94%25/rs=h:650,cg:true\n",
            "\n",
            "[!] Issue getting: https://img1.wsimg.com/isteam/ip/71dc3557-141b-4c35-afb1-e0de3c5f58b8/maxresdefault.jpg/:/cr=t:12.18%25,l:0%25,w:100%25,h:64.94%25/rs=h:650,cg:true\n",
            "[!] Error:: Invalid image, not saving https://img1.wsimg.com/isteam/ip/71dc3557-141b-4c35-afb1-e0de3c5f58b8/maxresdefault.jpg/:/cr=t:12.18%25,l:0%25,w:100%25,h:64.94%25/rs=h:650,cg:true\n",
            "\n",
            "[%] Downloading Image #16 from https://pngimg.com/uploads/grass/grass_PNG10863.png\n",
            "[%] File Downloaded !\n",
            "\n",
            "[%] Downloading Image #17 from https://flourishyoga.ca/wp-content/uploads/2014/07/4kra-1024x682.jpg\n",
            "[%] File Downloaded !\n",
            "\n",
            "[%] Downloading Image #18 from https://greenpathartificialturf.com/wp-content/uploads/2020/05/MxwPoSFs-768x1024-1.jpeg\n",
            "[%] File Downloaded !\n",
            "\n",
            "[%] Downloading Image #19 from https://murals-weblinc.netdna-ssl.com/product_images/horses-on-a-green-grass-20691982/5ec82e51bd89dd0018f764db/zoom.jpg?c=1590177360\n",
            "[%] File Downloaded !\n",
            "\n",
            "[%] Downloading Image #20 from http://www.trugreen.ca/TruGreenCanada/media/Images/content/1129-04-TG-LawnGallery_hero_1335x595.jpg\n",
            "[%] File Downloaded !\n",
            "\n",
            "[%] Downloading Image #21 from https://fantasticservicesgroup.com.au/blog/wp-content/uploads/2019/10/How-to-clean-artificial-grass.jpg\n",
            "[%] File Downloaded !\n",
            "\n",
            "[%] Downloading Image #22 from https://truegreennursery.com.au/website-images/img-margaret-river-grass-trees3-768x643.jpg\n",
            "[!] Issue getting: https://truegreennursery.com.au/website-images/img-margaret-river-grass-trees3-768x643.jpg\n",
            "[!] Error:: HTTP Error 404: Not Found\n",
            "[%] Downloading Image #22 from https://i.pinimg.com/originals/56/4c/53/564c5300e14cc0664265db995cd8ebc9.jpg\n",
            "[%] File Downloaded !\n",
            "\n",
            "[%] Downloading Image #23 from https://www.freepngimg.com/thumb/grass/24-grass-png-image-green-grass-png-picture.png\n",
            "[%] File Downloaded !\n",
            "\n",
            "[%] Downloading Image #24 from https://cdni.onedayonly.co.za/catalog/product/161/002/1610026830.9609.jpeg?q=90&amp;w=640&amp;markalign=top%2Cright&amp;markpad=0&amp;mark64=aHR0cHM6Ly9vZG8uaW1naXgubmV0Ly9-dGV4dD90eHQtYWxpZ249Y2VudGVyJTJDbWlkZGxlJnR4dHBhZD0xOCZ0eHRzaXplPTI1Jnc9MTAwJmJnPWU1MGU2MiZ0eHRjb2xvcj1mZmYmdHh0Zm9udD1IZWx2ZXRpY2FOZXVlLU1lZGl1bSZ0eHQ9U0FWRSs0MyUyNQ\n",
            "[%] File Downloaded !\n",
            "\n",
            "[%] Downloading Image #25 from http://greenlineartificialgrass.com/wp-content/uploads/2016/03/TRUE-PUTT.jpg\n",
            "[%] File Downloaded !\n",
            "\n",
            "[%] Downloading Image #26 from https://truevaluerentaltriad.com/wp-content/uploads/2020/09/49157383-a-well-kept-garden-with-lush-green-grass.jpg\n",
            "[%] File Downloaded !\n",
            "\n",
            "[%] Downloading Image #27 from https://murals-weblinc.netdna-ssl.com/product_images/green-grass-of-the-golf-course-18237018/5ec82ed7bd89dd0018f76d9f/zoom.jpg?c=1590177495\n",
            "[%] File Downloaded !\n",
            "\n",
            "[%] Downloading Image #28 from https://cimbaitaly.com/wp-content/uploads/2016/02/Lake-Bled-Swan-and-Church.jpg\n",
            "[Error]Invalid image, not saving https://cimbaitaly.com/wp-content/uploads/2016/02/Lake-Bled-Swan-and-Church.jpg\n",
            "\n",
            "[!] Issue getting: https://cimbaitaly.com/wp-content/uploads/2016/02/Lake-Bled-Swan-and-Church.jpg\n",
            "[!] Error:: Invalid image, not saving https://cimbaitaly.com/wp-content/uploads/2016/02/Lake-Bled-Swan-and-Church.jpg\n",
            "\n",
            "[%] Downloading Image #28 from https://www.maxpixel.net/static/photo/2x/Background-Grass-Greenery-Lawn-Green-19861.jpg\n",
            "[%] File Downloaded !\n",
            "\n",
            "[%] Downloading Image #29 from https://www.pro-greens.com/wp-content/uploads/2020/08/very-nice-green-4-holes-copy-scaled.jpg\n",
            "[%] File Downloaded !\n",
            "\n",
            "\n",
            "\n",
            "[!!]Indexing page: 2\n",
            "\n",
            "[%] Indexed 35 Images on Page 2.\n",
            "\n",
            "===============================================\n",
            "\n",
            "[%] Downloading Image #30 from http://www.andycain.org/uploads/8/3/6/7/83679422/green-grass_orig.jpg\n",
            "[%] File Downloaded !\n",
            "\n",
            "[%] Downloading Image #31 from https://www.wintergreengrass.com/wp-content/uploads/2020/07/TruePutt2.jpg\n",
            "[%] File Downloaded !\n",
            "\n",
            "[%] Downloading Image #32 from https://www.wintergreengrass.com/wp-content/uploads/2020/07/TruePutt3.jpg\n",
            "[%] File Downloaded !\n",
            "\n",
            "[%] Downloading Image #33 from https://syntheticgrasswarehouse.com/wp-content/uploads/2018/02/put29-1030x687.jpg\n",
            "[%] File Downloaded !\n",
            "\n",
            "[%] Downloading Image #34 from https://turfworksok.com/wp-content/uploads/2019/01/Achieve-a-Super-Green-Turf.png\n",
            "[%] File Downloaded !\n",
            "\n",
            "[%] Downloading Image #35 from https://i.pinimg.com/originals/64/88/6d/64886d2f44152c69d8ae8eae9b709762.jpg\n",
            "[%] File Downloaded !\n",
            "\n",
            "\n",
            "\n",
            "[%] Done. Downloaded 35 images.\n",
            "===============================================\n",
            "\n",
            "Please show your support here\n",
            "https://www.buymeacoffee.com/gurugaurav\n",
            "\n",
            "===============================================\n",
            "\n"
          ],
          "name": "stdout"
        }
      ]
    },
    {
      "cell_type": "code",
      "metadata": {
        "id": "18BR3Qih8MGK"
      },
      "source": [
        "import os\n",
        "import matplotlib.pyplot as plt\n",
        "import numpy as np\n",
        "from skimage.io import imread\n",
        "from skimage.transform import resize"
      ],
      "execution_count": null,
      "outputs": []
    },
    {
      "cell_type": "code",
      "metadata": {
        "id": "JGm7XOAx9IDm"
      },
      "source": [
        "target = []\n",
        "images = []\n",
        "flat_data = []\n",
        "\n",
        "DATADIR = '/content/imagesforest'\n",
        "CATEGORIES = ['desert','green forest','green grass']\n",
        "for category in CATEGORIES:\n",
        " class_num= CATEGORIES.index(category) \n",
        " path = os.path.join(DATADIR,category) \n",
        " for img in os.listdir(path):\n",
        "   img_array = imread(os.path.join(path,img)) \n",
        "   img_resized = resize(img_array, (150, 150,3))\n",
        "   flat_data.append(img_resized.flatten())\n",
        "   images.append(img_resized)\n",
        "   target.append(class_num)\n",
        "   \n",
        "flat_data = np.array(flat_data)\n",
        "target = np.array(target)\n",
        "images = np.array(images)\n"
      ],
      "execution_count": null,
      "outputs": []
    },
    {
      "cell_type": "code",
      "metadata": {
        "id": "MnWDoOdcM-HT"
      },
      "source": [
        "from sklearn.model_selection import train_test_split\n",
        "\n",
        "x_train,x_test,y_train,y_test = train_test_split(flat_data,target,\n",
        "                                        test_size=0.3,random_state=109)"
      ],
      "execution_count": null,
      "outputs": []
    },
    {
      "cell_type": "code",
      "metadata": {
        "id": "TnMFP6tAOU8D",
        "colab": {
          "base_uri": "https://localhost:8080/"
        },
        "outputId": "77b9c3d1-5480-4872-ea2f-47e53408078c"
      },
      "source": [
        "from sklearn.model_selection import GridSearchCV\n",
        "from sklearn import svm\n",
        "param_grid = [\n",
        "              {'C': [1,10,100,1000], 'kernel': [ 'linear']},\n",
        "              {'C': [1,10,100,1000], 'gamma': [0.001,0.0001], 'kernel': [ 'rbf']},\n",
        "\n",
        "]\n",
        "\n",
        "svc=svm.SVC (probability=True)\n",
        "clf = GridSearchCV (svc, param_grid)\n",
        "clf.fit(x_train,y_train)"
      ],
      "execution_count": null,
      "outputs": [
        {
          "output_type": "execute_result",
          "data": {
            "text/plain": [
              "GridSearchCV(cv=None, error_score=nan,\n",
              "             estimator=SVC(C=1.0, break_ties=False, cache_size=200,\n",
              "                           class_weight=None, coef0=0.0,\n",
              "                           decision_function_shape='ovr', degree=3,\n",
              "                           gamma='scale', kernel='rbf', max_iter=-1,\n",
              "                           probability=True, random_state=None, shrinking=True,\n",
              "                           tol=0.001, verbose=False),\n",
              "             iid='deprecated', n_jobs=None,\n",
              "             param_grid=[{'C': [1, 10, 100, 1000], 'kernel': ['linear']},\n",
              "                         {'C': [1, 10, 100, 1000], 'gamma': [0.001, 0.0001],\n",
              "                          'kernel': ['rbf']}],\n",
              "             pre_dispatch='2*n_jobs', refit=True, return_train_score=False,\n",
              "             scoring=None, verbose=0)"
            ]
          },
          "metadata": {
            "tags": []
          },
          "execution_count": 59
        }
      ]
    },
    {
      "cell_type": "code",
      "metadata": {
        "id": "ssudPFN7ah6M",
        "colab": {
          "base_uri": "https://localhost:8080/"
        },
        "outputId": "a622098b-194a-43d1-f1a2-55042944b803"
      },
      "source": [
        "y_pred = clf.predict(x_test)\n",
        "y_pred"
      ],
      "execution_count": null,
      "outputs": [
        {
          "output_type": "execute_result",
          "data": {
            "text/plain": [
              "array([0, 2, 0, 1, 0, 1, 2, 0, 1, 2, 0, 1, 1, 0, 2, 1, 2, 1, 2, 0, 1, 1,\n",
              "       2, 1, 2, 2, 1, 0, 1, 0, 0, 2, 0, 1])"
            ]
          },
          "metadata": {
            "tags": []
          },
          "execution_count": 60
        }
      ]
    },
    {
      "cell_type": "code",
      "metadata": {
        "id": "uLEANlLIbBd4",
        "colab": {
          "base_uri": "https://localhost:8080/"
        },
        "outputId": "8be3dbd1-ff91-4531-9f6b-252228d9e5d6"
      },
      "source": [
        "y_test"
      ],
      "execution_count": null,
      "outputs": [
        {
          "output_type": "execute_result",
          "data": {
            "text/plain": [
              "array([0, 2, 0, 1, 0, 1, 2, 0, 1, 1, 0, 1, 0, 2, 2, 2, 2, 2, 2, 0, 2, 0,\n",
              "       2, 1, 2, 2, 2, 0, 2, 0, 0, 2, 0, 1])"
            ]
          },
          "metadata": {
            "tags": []
          },
          "execution_count": 61
        }
      ]
    },
    {
      "cell_type": "code",
      "metadata": {
        "id": "-ft2y-kUbBCE"
      },
      "source": [
        "from sklearn.metrics import accuracy_score,confusion_matrix"
      ],
      "execution_count": null,
      "outputs": []
    },
    {
      "cell_type": "code",
      "metadata": {
        "id": "6gor9HOybHEG",
        "colab": {
          "base_uri": "https://localhost:8080/"
        },
        "outputId": "7319540b-7e9c-44e8-8235-5c9009b1fd40"
      },
      "source": [
        "accuracy_score(y_pred,y_test)"
      ],
      "execution_count": null,
      "outputs": [
        {
          "output_type": "execute_result",
          "data": {
            "text/plain": [
              "0.7352941176470589"
            ]
          },
          "metadata": {
            "tags": []
          },
          "execution_count": 63
        }
      ]
    },
    {
      "cell_type": "code",
      "metadata": {
        "id": "DGpOkE6pc-ZU",
        "colab": {
          "base_uri": "https://localhost:8080/"
        },
        "outputId": "8b05809e-0a5f-410a-d1ef-c485942e880b"
      },
      "source": [
        "confusion_matrix(y_pred,y_test)"
      ],
      "execution_count": null,
      "outputs": [
        {
          "output_type": "execute_result",
          "data": {
            "text/plain": [
              "array([[10,  0,  1],\n",
              "       [ 2,  6,  5],\n",
              "       [ 0,  1,  9]])"
            ]
          },
          "metadata": {
            "tags": []
          },
          "execution_count": 64
        }
      ]
    },
    {
      "cell_type": "code",
      "metadata": {
        "id": "kEJnHE-ceJgo"
      },
      "source": [
        "import pickle"
      ],
      "execution_count": null,
      "outputs": []
    },
    {
      "cell_type": "code",
      "metadata": {
        "id": "TWZUefeZeS6U"
      },
      "source": [
        "pickle.dump(clf,open('img_modle.p','wb'))"
      ],
      "execution_count": null,
      "outputs": []
    },
    {
      "cell_type": "code",
      "metadata": {
        "id": "kFtVri0sfrqB"
      },
      "source": [
        "modle = pickle.load(open('img_modle.p','rb'))"
      ],
      "execution_count": null,
      "outputs": []
    },
    {
      "cell_type": "code",
      "metadata": {
        "id": "zOngbOefic91",
        "colab": {
          "base_uri": "https://localhost:8080/",
          "height": 1000
        },
        "outputId": "4214beed-7aa0-4c04-bfd0-55213a2f41a9"
      },
      "source": [
        "flat_data = []\n",
        "url = input('Enter your URL')\n",
        "img = imread(url)\n",
        "img_resized = resize(img, (150, 150,3))\n",
        "flat_data.append(img_resized.flatten())\n",
        "flat_data = np.array(flat_data)\n",
        "print(img.shape)\n",
        "plt.imshow(img_resized)\n",
        "y_out = model.predict(flat_data)\n",
        "y_out = CATEGORIES[y_out[0]]\n",
        "print (f' PREDICTED OUTPUT: {y_out}')"
      ],
      "execution_count": null,
      "outputs": [
        {
          "output_type": "error",
          "ename": "KeyboardInterrupt",
          "evalue": "ignored",
          "traceback": [
            "\u001b[0;31m---------------------------------------------------------------------------\u001b[0m",
            "\u001b[0;31mKeyboardInterrupt\u001b[0m                         Traceback (most recent call last)",
            "\u001b[0;32m/usr/local/lib/python3.7/dist-packages/ipykernel/kernelbase.py\u001b[0m in \u001b[0;36m_input_request\u001b[0;34m(self, prompt, ident, parent, password)\u001b[0m\n\u001b[1;32m    728\u001b[0m             \u001b[0;32mtry\u001b[0m\u001b[0;34m:\u001b[0m\u001b[0;34m\u001b[0m\u001b[0;34m\u001b[0m\u001b[0m\n\u001b[0;32m--> 729\u001b[0;31m                 \u001b[0mident\u001b[0m\u001b[0;34m,\u001b[0m \u001b[0mreply\u001b[0m \u001b[0;34m=\u001b[0m \u001b[0mself\u001b[0m\u001b[0;34m.\u001b[0m\u001b[0msession\u001b[0m\u001b[0;34m.\u001b[0m\u001b[0mrecv\u001b[0m\u001b[0;34m(\u001b[0m\u001b[0mself\u001b[0m\u001b[0;34m.\u001b[0m\u001b[0mstdin_socket\u001b[0m\u001b[0;34m,\u001b[0m \u001b[0;36m0\u001b[0m\u001b[0;34m)\u001b[0m\u001b[0;34m\u001b[0m\u001b[0;34m\u001b[0m\u001b[0m\n\u001b[0m\u001b[1;32m    730\u001b[0m             \u001b[0;32mexcept\u001b[0m \u001b[0mException\u001b[0m\u001b[0;34m:\u001b[0m\u001b[0;34m\u001b[0m\u001b[0;34m\u001b[0m\u001b[0m\n",
            "\u001b[0;32m/usr/local/lib/python3.7/dist-packages/jupyter_client/session.py\u001b[0m in \u001b[0;36mrecv\u001b[0;34m(self, socket, mode, content, copy)\u001b[0m\n\u001b[1;32m    802\u001b[0m         \u001b[0;32mtry\u001b[0m\u001b[0;34m:\u001b[0m\u001b[0;34m\u001b[0m\u001b[0;34m\u001b[0m\u001b[0m\n\u001b[0;32m--> 803\u001b[0;31m             \u001b[0mmsg_list\u001b[0m \u001b[0;34m=\u001b[0m \u001b[0msocket\u001b[0m\u001b[0;34m.\u001b[0m\u001b[0mrecv_multipart\u001b[0m\u001b[0;34m(\u001b[0m\u001b[0mmode\u001b[0m\u001b[0;34m,\u001b[0m \u001b[0mcopy\u001b[0m\u001b[0;34m=\u001b[0m\u001b[0mcopy\u001b[0m\u001b[0;34m)\u001b[0m\u001b[0;34m\u001b[0m\u001b[0;34m\u001b[0m\u001b[0m\n\u001b[0m\u001b[1;32m    804\u001b[0m         \u001b[0;32mexcept\u001b[0m \u001b[0mzmq\u001b[0m\u001b[0;34m.\u001b[0m\u001b[0mZMQError\u001b[0m \u001b[0;32mas\u001b[0m \u001b[0me\u001b[0m\u001b[0;34m:\u001b[0m\u001b[0;34m\u001b[0m\u001b[0;34m\u001b[0m\u001b[0m\n",
            "\u001b[0;32m/usr/local/lib/python3.7/dist-packages/zmq/sugar/socket.py\u001b[0m in \u001b[0;36mrecv_multipart\u001b[0;34m(self, flags, copy, track)\u001b[0m\n\u001b[1;32m    582\u001b[0m         \"\"\"\n\u001b[0;32m--> 583\u001b[0;31m         \u001b[0mparts\u001b[0m \u001b[0;34m=\u001b[0m \u001b[0;34m[\u001b[0m\u001b[0mself\u001b[0m\u001b[0;34m.\u001b[0m\u001b[0mrecv\u001b[0m\u001b[0;34m(\u001b[0m\u001b[0mflags\u001b[0m\u001b[0;34m,\u001b[0m \u001b[0mcopy\u001b[0m\u001b[0;34m=\u001b[0m\u001b[0mcopy\u001b[0m\u001b[0;34m,\u001b[0m \u001b[0mtrack\u001b[0m\u001b[0;34m=\u001b[0m\u001b[0mtrack\u001b[0m\u001b[0;34m)\u001b[0m\u001b[0;34m]\u001b[0m\u001b[0;34m\u001b[0m\u001b[0;34m\u001b[0m\u001b[0m\n\u001b[0m\u001b[1;32m    584\u001b[0m         \u001b[0;31m# have first part already, only loop while more to receive\u001b[0m\u001b[0;34m\u001b[0m\u001b[0;34m\u001b[0m\u001b[0;34m\u001b[0m\u001b[0m\n",
            "\u001b[0;32mzmq/backend/cython/socket.pyx\u001b[0m in \u001b[0;36mzmq.backend.cython.socket.Socket.recv\u001b[0;34m()\u001b[0m\n",
            "\u001b[0;32mzmq/backend/cython/socket.pyx\u001b[0m in \u001b[0;36mzmq.backend.cython.socket.Socket.recv\u001b[0;34m()\u001b[0m\n",
            "\u001b[0;32mzmq/backend/cython/socket.pyx\u001b[0m in \u001b[0;36mzmq.backend.cython.socket._recv_copy\u001b[0;34m()\u001b[0m\n",
            "\u001b[0;32m/usr/local/lib/python3.7/dist-packages/zmq/backend/cython/checkrc.pxd\u001b[0m in \u001b[0;36mzmq.backend.cython.checkrc._check_rc\u001b[0;34m()\u001b[0m\n",
            "\u001b[0;31mKeyboardInterrupt\u001b[0m: ",
            "\nDuring handling of the above exception, another exception occurred:\n",
            "\u001b[0;31mKeyboardInterrupt\u001b[0m                         Traceback (most recent call last)",
            "\u001b[0;32m<ipython-input-75-7bcb610d5708>\u001b[0m in \u001b[0;36m<module>\u001b[0;34m()\u001b[0m\n\u001b[1;32m      1\u001b[0m \u001b[0mflat_data\u001b[0m \u001b[0;34m=\u001b[0m \u001b[0;34m[\u001b[0m\u001b[0;34m]\u001b[0m\u001b[0;34m\u001b[0m\u001b[0;34m\u001b[0m\u001b[0m\n\u001b[0;32m----> 2\u001b[0;31m \u001b[0murl\u001b[0m \u001b[0;34m=\u001b[0m \u001b[0minput\u001b[0m\u001b[0;34m(\u001b[0m\u001b[0;34m'Enter your URL'\u001b[0m\u001b[0;34m)\u001b[0m\u001b[0;34m\u001b[0m\u001b[0;34m\u001b[0m\u001b[0m\n\u001b[0m\u001b[1;32m      3\u001b[0m \u001b[0mimg\u001b[0m \u001b[0;34m=\u001b[0m \u001b[0mimread\u001b[0m\u001b[0;34m(\u001b[0m\u001b[0murl\u001b[0m\u001b[0;34m)\u001b[0m\u001b[0;34m\u001b[0m\u001b[0;34m\u001b[0m\u001b[0m\n\u001b[1;32m      4\u001b[0m \u001b[0mimg_resized\u001b[0m \u001b[0;34m=\u001b[0m \u001b[0mresize\u001b[0m\u001b[0;34m(\u001b[0m\u001b[0mimg\u001b[0m\u001b[0;34m,\u001b[0m \u001b[0;34m(\u001b[0m\u001b[0;36m150\u001b[0m\u001b[0;34m,\u001b[0m \u001b[0;36m150\u001b[0m\u001b[0;34m,\u001b[0m\u001b[0;36m3\u001b[0m\u001b[0;34m)\u001b[0m\u001b[0;34m)\u001b[0m\u001b[0;34m\u001b[0m\u001b[0;34m\u001b[0m\u001b[0m\n\u001b[1;32m      5\u001b[0m \u001b[0mflat_data\u001b[0m\u001b[0;34m.\u001b[0m\u001b[0mappend\u001b[0m\u001b[0;34m(\u001b[0m\u001b[0mimg_resized\u001b[0m\u001b[0;34m.\u001b[0m\u001b[0mflatten\u001b[0m\u001b[0;34m(\u001b[0m\u001b[0;34m)\u001b[0m\u001b[0;34m)\u001b[0m\u001b[0;34m\u001b[0m\u001b[0;34m\u001b[0m\u001b[0m\n",
            "\u001b[0;32m/usr/local/lib/python3.7/dist-packages/ipykernel/kernelbase.py\u001b[0m in \u001b[0;36mraw_input\u001b[0;34m(self, prompt)\u001b[0m\n\u001b[1;32m    702\u001b[0m             \u001b[0mself\u001b[0m\u001b[0;34m.\u001b[0m\u001b[0m_parent_ident\u001b[0m\u001b[0;34m,\u001b[0m\u001b[0;34m\u001b[0m\u001b[0;34m\u001b[0m\u001b[0m\n\u001b[1;32m    703\u001b[0m             \u001b[0mself\u001b[0m\u001b[0;34m.\u001b[0m\u001b[0m_parent_header\u001b[0m\u001b[0;34m,\u001b[0m\u001b[0;34m\u001b[0m\u001b[0;34m\u001b[0m\u001b[0m\n\u001b[0;32m--> 704\u001b[0;31m             \u001b[0mpassword\u001b[0m\u001b[0;34m=\u001b[0m\u001b[0;32mFalse\u001b[0m\u001b[0;34m,\u001b[0m\u001b[0;34m\u001b[0m\u001b[0;34m\u001b[0m\u001b[0m\n\u001b[0m\u001b[1;32m    705\u001b[0m         )\n\u001b[1;32m    706\u001b[0m \u001b[0;34m\u001b[0m\u001b[0m\n",
            "\u001b[0;32m/usr/local/lib/python3.7/dist-packages/ipykernel/kernelbase.py\u001b[0m in \u001b[0;36m_input_request\u001b[0;34m(self, prompt, ident, parent, password)\u001b[0m\n\u001b[1;32m    732\u001b[0m             \u001b[0;32mexcept\u001b[0m \u001b[0mKeyboardInterrupt\u001b[0m\u001b[0;34m:\u001b[0m\u001b[0;34m\u001b[0m\u001b[0;34m\u001b[0m\u001b[0m\n\u001b[1;32m    733\u001b[0m                 \u001b[0;31m# re-raise KeyboardInterrupt, to truncate traceback\u001b[0m\u001b[0;34m\u001b[0m\u001b[0;34m\u001b[0m\u001b[0;34m\u001b[0m\u001b[0m\n\u001b[0;32m--> 734\u001b[0;31m                 \u001b[0;32mraise\u001b[0m \u001b[0mKeyboardInterrupt\u001b[0m\u001b[0;34m\u001b[0m\u001b[0;34m\u001b[0m\u001b[0m\n\u001b[0m\u001b[1;32m    735\u001b[0m             \u001b[0;32melse\u001b[0m\u001b[0;34m:\u001b[0m\u001b[0;34m\u001b[0m\u001b[0;34m\u001b[0m\u001b[0m\n\u001b[1;32m    736\u001b[0m                 \u001b[0;32mbreak\u001b[0m\u001b[0;34m\u001b[0m\u001b[0;34m\u001b[0m\u001b[0m\n",
            "\u001b[0;31mKeyboardInterrupt\u001b[0m: "
          ]
        }
      ]
    }
  ]
}